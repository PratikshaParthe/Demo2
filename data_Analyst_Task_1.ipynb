{
  "nbformat": 4,
  "nbformat_minor": 0,
  "metadata": {
    "colab": {
      "provenance": [],
      "authorship_tag": "ABX9TyNsH5uF+GO3UbTSGd1upoer",
      "include_colab_link": true
    },
    "kernelspec": {
      "name": "python3",
      "display_name": "Python 3"
    },
    "language_info": {
      "name": "python"
    }
  },
  "cells": [
    {
      "cell_type": "markdown",
      "metadata": {
        "id": "view-in-github",
        "colab_type": "text"
      },
      "source": [
        "<a href=\"https://colab.research.google.com/github/PratikshaParthe/Demo2/blob/main/data_Analyst_Task_1.ipynb\" target=\"_parent\"><img src=\"https://colab.research.google.com/assets/colab-badge.svg\" alt=\"Open In Colab\"/></a>"
      ]
    },
    {
      "cell_type": "markdown",
      "source": [
        "Task 1"
      ],
      "metadata": {
        "id": "OddMawdTCcQJ"
      }
    },
    {
      "cell_type": "code",
      "execution_count": 4,
      "metadata": {
        "id": "yx2s73ECAgQl"
      },
      "outputs": [],
      "source": [
        "import pandas as pd\n",
        "df = pd.read_csv('/content/noshowappointments-kagglev2-may-2016.csv.zip')\n"
      ]
    },
    {
      "cell_type": "code",
      "source": [
        "df = df.rename(columns={\n",
        "    'Hipertension': 'Hypertension',\n",
        "    'Handcap': 'Handicap',\n",
        "    'No-show': 'NoShow'\n",
        "})"
      ],
      "metadata": {
        "id": "aNTDkaY0Bon7"
      },
      "execution_count": 5,
      "outputs": []
    },
    {
      "cell_type": "code",
      "source": [
        "df['PatientId'] = df['PatientId'].astype('int64')\n",
        "df['ScheduledDay'] = pd.to_datetime(df['ScheduledDay'], errors='coerce')\n",
        "df['AppointmentDay'] = pd.to_datetime(df['AppointmentDay'], errors='coerce')"
      ],
      "metadata": {
        "id": "0nCo-RRMBoqg"
      },
      "execution_count": 6,
      "outputs": []
    },
    {
      "cell_type": "code",
      "source": [
        "df.loc[(df['Age'] < 0) | (df['Age'] > 100), 'Age'] = pd.NA"
      ],
      "metadata": {
        "id": "0kaiBSCjBos9"
      },
      "execution_count": 7,
      "outputs": []
    },
    {
      "cell_type": "code",
      "source": [
        "bool_cols = ['Scholarship','Hypertension','Diabetes','Alcoholism','Handicap','SMS_received']\n",
        "for col in bool_cols:\n",
        "    df[col] = df[col].fillna(0).astype('int')"
      ],
      "metadata": {
        "id": "d_5_Yh7-Bou0"
      },
      "execution_count": 8,
      "outputs": []
    },
    {
      "cell_type": "code",
      "source": [
        "df['NoShow'] = df['NoShow'].str.strip().map({'Yes':1, 'No':0})"
      ],
      "metadata": {
        "id": "5eK7iD4GBoxZ"
      },
      "execution_count": 9,
      "outputs": []
    },
    {
      "cell_type": "code",
      "source": [
        "df = df.drop_duplicates()\n"
      ],
      "metadata": {
        "id": "2elcAYvDBo03"
      },
      "execution_count": 10,
      "outputs": []
    },
    {
      "cell_type": "code",
      "source": [
        "df['WaitDays'] = (df['AppointmentDay'] - df['ScheduledDay']).dt.days"
      ],
      "metadata": {
        "id": "8SJiBABVB8db"
      },
      "execution_count": 11,
      "outputs": []
    },
    {
      "cell_type": "code",
      "source": [
        "df['AppointmentWeekday'] = df['AppointmentDay'].dt.day_name()\n",
        "\n"
      ],
      "metadata": {
        "id": "dRQnWpr7B8kh"
      },
      "execution_count": 12,
      "outputs": []
    },
    {
      "cell_type": "code",
      "source": [
        "df = df.dropna(subset=['ScheduledDay', 'AppointmentDay', 'Age', 'NoShow'])\n"
      ],
      "metadata": {
        "id": "sw_nFRuCB8sG"
      },
      "execution_count": 13,
      "outputs": []
    },
    {
      "cell_type": "code",
      "source": [
        "df = df.reset_index(drop=True)"
      ],
      "metadata": {
        "id": "aNgdXnHtB8vr"
      },
      "execution_count": 14,
      "outputs": []
    },
    {
      "cell_type": "code",
      "source": [
        "print(df.info())\n",
        "print(df.isna().sum())\n",
        "print(df['NoShow'].value_counts(normalize=True))"
      ],
      "metadata": {
        "colab": {
          "base_uri": "https://localhost:8080/"
        },
        "id": "DuQnWfePCDYI",
        "outputId": "371af740-a396-41ff-ffd8-bb304ae177b0"
      },
      "execution_count": 15,
      "outputs": [
        {
          "output_type": "stream",
          "name": "stdout",
          "text": [
            "<class 'pandas.core.frame.DataFrame'>\n",
            "RangeIndex: 110519 entries, 0 to 110518\n",
            "Data columns (total 16 columns):\n",
            " #   Column              Non-Null Count   Dtype              \n",
            "---  ------              --------------   -----              \n",
            " 0   PatientId           110519 non-null  int64              \n",
            " 1   AppointmentID       110519 non-null  int64              \n",
            " 2   Gender              110519 non-null  object             \n",
            " 3   ScheduledDay        110519 non-null  datetime64[ns, UTC]\n",
            " 4   AppointmentDay      110519 non-null  datetime64[ns, UTC]\n",
            " 5   Age                 110519 non-null  float64            \n",
            " 6   Neighbourhood       110519 non-null  object             \n",
            " 7   Scholarship         110519 non-null  int64              \n",
            " 8   Hypertension        110519 non-null  int64              \n",
            " 9   Diabetes            110519 non-null  int64              \n",
            " 10  Alcoholism          110519 non-null  int64              \n",
            " 11  Handicap            110519 non-null  int64              \n",
            " 12  SMS_received        110519 non-null  int64              \n",
            " 13  NoShow              110519 non-null  int64              \n",
            " 14  WaitDays            110519 non-null  int64              \n",
            " 15  AppointmentWeekday  110519 non-null  object             \n",
            "dtypes: datetime64[ns, UTC](2), float64(1), int64(10), object(3)\n",
            "memory usage: 13.5+ MB\n",
            "None\n",
            "PatientId             0\n",
            "AppointmentID         0\n",
            "Gender                0\n",
            "ScheduledDay          0\n",
            "AppointmentDay        0\n",
            "Age                   0\n",
            "Neighbourhood         0\n",
            "Scholarship           0\n",
            "Hypertension          0\n",
            "Diabetes              0\n",
            "Alcoholism            0\n",
            "Handicap              0\n",
            "SMS_received          0\n",
            "NoShow                0\n",
            "WaitDays              0\n",
            "AppointmentWeekday    0\n",
            "dtype: int64\n",
            "NoShow\n",
            "0    0.79808\n",
            "1    0.20192\n",
            "Name: proportion, dtype: float64\n"
          ]
        }
      ]
    },
    {
      "cell_type": "code",
      "source": [
        "df.to_csv('cleaned_appointments.csv', index=False)\n"
      ],
      "metadata": {
        "id": "HNP2pd8-CDgK"
      },
      "execution_count": 16,
      "outputs": []
    }
  ]
}